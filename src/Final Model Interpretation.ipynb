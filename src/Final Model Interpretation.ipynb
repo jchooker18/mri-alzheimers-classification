{
 "cells": [
  {
   "cell_type": "code",
   "execution_count": 206,
   "id": "337366a5",
   "metadata": {},
   "outputs": [
    {
     "name": "stdout",
     "output_type": "stream",
     "text": [
      "{'randomforestclassifier__max_depth': 1, 'randomforestclassifier__max_features': 0.75}\n",
      "{'randomforestclassifier__max_depth': 3, 'randomforestclassifier__max_features': 1.0}\n",
      "{'randomforestclassifier__max_depth': 1, 'randomforestclassifier__max_features': 0.75}\n",
      "{'randomforestclassifier__max_depth': 1, 'randomforestclassifier__max_features': 0.5}\n",
      "{'randomforestclassifier__max_depth': 3, 'randomforestclassifier__max_features': 0.5}\n",
      "{'randomforestclassifier__max_depth': 3, 'randomforestclassifier__max_features': 1.0}\n",
      "{'randomforestclassifier__max_depth': 3, 'randomforestclassifier__max_features': 0.5}\n",
      "{'randomforestclassifier__max_depth': 3, 'randomforestclassifier__max_features': 0.75}\n",
      "{'randomforestclassifier__max_depth': 1, 'randomforestclassifier__max_features': 1.0}\n",
      "{'randomforestclassifier__max_depth': 3, 'randomforestclassifier__max_features': 1.0}\n",
      "{'randomforestclassifier__max_depth': 3, 'randomforestclassifier__max_features': 0.75}\n",
      "{'randomforestclassifier__max_depth': 3, 'randomforestclassifier__max_features': 0.5}\n",
      "{'randomforestclassifier__max_depth': 3, 'randomforestclassifier__max_features': 0.75}\n",
      "{'randomforestclassifier__max_depth': 3, 'randomforestclassifier__max_features': 0.75}\n",
      "{'randomforestclassifier__max_depth': 3, 'randomforestclassifier__max_features': 0.75}\n",
      "{'randomforestclassifier__max_depth': 3, 'randomforestclassifier__max_features': 1.0}\n",
      "{'randomforestclassifier__max_depth': 1, 'randomforestclassifier__max_features': 0.75}\n",
      "{'randomforestclassifier__max_depth': 3, 'randomforestclassifier__max_features': 1.0}\n",
      "{'randomforestclassifier__max_depth': 3, 'randomforestclassifier__max_features': 0.75}\n",
      "{'randomforestclassifier__max_depth': 3, 'randomforestclassifier__max_features': 1.0}\n"
     ]
    }
   ],
   "source": [
    "# import packages\n",
    "import pandas as pd\n",
    "import numpy as np\n",
    "import matplotlib\n",
    "from matplotlib import pylab as plt\n",
    "import pickle\n",
    "\n",
    "# get cleaned data\n",
    "file = open('../data/data_cleaned.save', 'rb')\n",
    "df, X, y, groups = pickle.load(file)\n",
    "file.close()\n",
    "\n",
    "file = open('../data/preprocessor.save', 'rb')\n",
    "preprocessor = pickle.load(file)\n",
    "file.close()\n",
    "\n",
    "file = open('../results/rf_best_params.save', 'rb')\n",
    "rf_best_params = pickle.load(file)\n",
    "file.close()\n",
    "\n",
    "for params in rf_best_params:\n",
    "    print(params)"
   ]
  },
  {
   "cell_type": "code",
   "execution_count": 207,
   "id": "c0e63258",
   "metadata": {},
   "outputs": [],
   "source": [
    "from sklearn.preprocessing import LabelEncoder\n",
    "from sklearn.model_selection import GroupShuffleSplit\n",
    "from sklearn.pipeline import Pipeline\n",
    "from sklearn.ensemble import RandomForestClassifier\n",
    "from sklearn.metrics import accuracy_score\n",
    "\n",
    "# train final model for 100 different random states\n",
    "nr_states = 100\n",
    "\n",
    "final_models = []\n",
    "final_train_data = []\n",
    "final_test_data = []\n",
    "final_predictions = []\n",
    "final_scores = []\n",
    "baseline_scores = []\n",
    "\n",
    "\n",
    "for r in range(nr_states):\n",
    "        \n",
    "    r = r+9\n",
    "    \n",
    "    le_y = LabelEncoder()\n",
    "    y_prep = le_y.fit_transform(y)\n",
    "    y_prep = pd.DataFrame(data = y_prep, columns = ['CDR'])\n",
    "\n",
    "    # create a test set based on groups\n",
    "    splitter = GroupShuffleSplit(n_splits=1,test_size=0.2,random_state=r)\n",
    "    for i_train, i_test in splitter.split(X, y_prep, groups):\n",
    "        X_train, y_train, groups_train = X.iloc[i_train], y_prep.iloc[i_train], groups.iloc[i_train]\n",
    "        X_test, y_test, groups_test = X.iloc[i_test], y_prep.iloc[i_test], groups.iloc[i_test]\n",
    "        \n",
    "    # make into row vectors to avoid an obnoxious sklearn/xgb warning\n",
    "    y_train = np.reshape(np.array(y_train), (1, -1)).ravel()\n",
    "    y_test = np.reshape(np.array(y_test), (1, -1)).ravel()\n",
    "        \n",
    "    pipe = Pipeline(steps=[('preprocessor', preprocessor)])\n",
    "    X_train = pipe.fit_transform(X_train)\n",
    "    X_test = pipe.transform(X_test)\n",
    "        \n",
    "    rf = RandomForestClassifier(max_depth=3, max_features=0.75, random_state=r)\n",
    "    rf.fit(X_train, y_train)\n",
    "    \n",
    "    y_pred = rf.predict(X_test)\n",
    "    \n",
    "    score = accuracy_score(y_test, y_pred)\n",
    "    baseline_score = np.sum(y_test == 0)/len(y_test)\n",
    "    \n",
    "    final_models.append(rf)\n",
    "    final_train_data.append((X_train, y_train))\n",
    "    final_test_data.append((X_test, y_test))\n",
    "    final_predictions.append(y_pred)\n",
    "    final_scores.append(score)\n",
    "    baseline_scores.append(baseline_score)\n",
    "\n",
    "#     print(baseline_score)\n",
    "#     print(rf.feature_importances_)\n"
   ]
  },
  {
   "cell_type": "code",
   "execution_count": 242,
   "id": "35022219",
   "metadata": {},
   "outputs": [
    {
     "name": "stdout",
     "output_type": "stream",
     "text": [
      "Mean test score:  0.7201390265983264\n",
      "Mean baseline score:  0.5437962745065164\n",
      "Standard deviations above baseline:  2.983277930701013\n"
     ]
    }
   ],
   "source": [
    "# save the output\n",
    "file = open('../results/final_models.save', 'wb')\n",
    "pickle.dump((final_models, final_predictions, final_scores, baseline_scores),file)\n",
    "file.close()\n",
    "\n",
    "file = open('../data/final_data.save', 'wb')\n",
    "pickle.dump((final_train_data, final_test_data),file)\n",
    "file.close()\n",
    "\n",
    "# test scores mean and stdev\n",
    "test_mean = np.mean(final_scores)\n",
    "test_stdev = np.std(final_scores)\n",
    "\n",
    "# baseline scores mean and stdev\n",
    "base_mean = np.mean(baseline_scores)\n",
    "base_stdev = np.std(baseline_scores)\n",
    "\n",
    "# stdevs above baseline\n",
    "stdevs_above_base = (test_mean - base_mean) / test_stdev\n",
    "\n",
    "print('Mean test score: ', test_mean)\n",
    "print('Mean baseline score: ', base_mean)\n",
    "print('Standard deviations above baseline: ', stdevs_above_base)\n"
   ]
  },
  {
   "cell_type": "code",
   "execution_count": 209,
   "id": "1af8fbcc",
   "metadata": {},
   "outputs": [],
   "source": [
    "ordinal_ftrs = ['EDUC']\n",
    "onehot_ftrs = ['Gender', 'SES']\n",
    "minmax_ftrs = ['Age', 'MMSE', 'nWBV']\n",
    "std_ftrs = ['eTIV', 'ASF']\n",
    "\n",
    "onehot_ftrs_prep = list(pipe.named_steps['preprocessor'].named_transformers_['onehot'].get_feature_names(onehot_ftrs))\n",
    "\n",
    "feature_names = ordinal_ftrs + onehot_ftrs_prep + minmax_ftrs + std_ftrs\n",
    "# feature_names"
   ]
  },
  {
   "cell_type": "code",
   "execution_count": 212,
   "id": "04d4a9cd",
   "metadata": {},
   "outputs": [],
   "source": [
    "from sklearn.metrics import confusion_matrix\n",
    "\n",
    "# create normalized confusion matrix, mean of confusion matrices for each random state\n",
    "cms = [confusion_matrix(final_test_data[i][1], final_predictions[i]) for i in range(len(final_test_data))]\n",
    "\n",
    "cm_mean = np.empty(shape=(3,3))\n",
    "\n",
    "for i in range(3):\n",
    "    for j in range(3):\n",
    "        cm_mean[i,j] = sum([cm[i,j] for cm in cms]) / len(cms)\n",
    "\n",
    "cm_norm = cm_mean.astype('float') / cm_mean.sum(axis=1)[:, np.newaxis]"
   ]
  },
  {
   "cell_type": "code",
   "execution_count": 213,
   "id": "c009b55f",
   "metadata": {},
   "outputs": [
    {
     "data": {
      "text/plain": [
       "[0.03025349843387005,\n",
       " 0.029603778496462847,\n",
       " 0.029666164312845047,\n",
       " 0.0013352374123341568,\n",
       " 0.009923764782266233,\n",
       " 0.005162315639861525,\n",
       " 0.001476816380079106,\n",
       " 0.0007293168742842596,\n",
       " 0.02276322572801762,\n",
       " 0.05803126359865746,\n",
       " 0.6662140644705845,\n",
       " 0.08293993435734777,\n",
       " 0.030851008346533298,\n",
       " 0.031049611166856107]"
      ]
     },
     "execution_count": 213,
     "metadata": {},
     "output_type": "execute_result"
    }
   ],
   "source": [
    "len(rf.feature_importances_)\n",
    "len(feature_names)\n",
    "\n",
    "feat_imp_mean = []\n",
    "feat_imp_stdev = []\n",
    "\n",
    "# find mean and stdev of feature importances across all random states\n",
    "for i in range(len(feature_names)):\n",
    "    feat = [m.feature_importances_[i] for m in final_models]\n",
    "    feat_imp_mean.append(np.mean(feat))\n",
    "    feat_imp_stdev.append(np.std(feat))\n",
    "    \n",
    "feat_imp_mean\n",
    "# feat_imp_stdev\n"
   ]
  },
  {
   "cell_type": "code",
   "execution_count": 214,
   "id": "e51f7925",
   "metadata": {},
   "outputs": [],
   "source": [
    "from sklearn.inspection import permutation_importance\n",
    "\n",
    "perm_importances = []\n",
    "\n",
    "# collect permutation importances for each random state\n",
    "for i in range(len(final_models)):\n",
    "    result = permutation_importance(final_models[i], final_test_data[i][0], final_test_data[i][1], n_repeats=10, \n",
    "                                random_state=5, n_jobs=-1)\n",
    "    perm_importances.append(result.importances_mean)\n"
   ]
  },
  {
   "cell_type": "code",
   "execution_count": 215,
   "id": "4bd69dfa",
   "metadata": {},
   "outputs": [],
   "source": [
    "perm_imp_mean = []\n",
    "perm_imp_std = []\n",
    "\n",
    "# calculate mean and std dev of permuation importances across all random states\n",
    "for i in range(len(feature_names)):\n",
    "    feat = [m[i] for m in perm_importances]\n",
    "    perm_imp_mean.append(np.mean(feat))\n",
    "    perm_imp_std.append(np.std(feat))"
   ]
  },
  {
   "cell_type": "code",
   "execution_count": 232,
   "id": "fd0df23d",
   "metadata": {},
   "outputs": [
    {
     "data": {
      "image/png": "[encoded data removed]",
      "text/plain": [
       "<Figure size 864x360 with 2 Axes>"
      ]
     },
     "metadata": {
      "needs_background": "light"
     },
     "output_type": "display_data"
    }
   ],
   "source": [
    "plt.figure(figsize=(12,5))\n",
    "plt.subplot(1,2,1)\n",
    "plt.barh(feature_names, feat_imp_mean)\n",
    "plt.errorbar(feat_imp_mean, feature_names, xerr=feat_imp_stdev, fmt='none', color='black' )\n",
    "# plt.xlim([0.45,0.8])\n",
    "plt.xlabel('Mean Decrease in Impurity')\n",
    "plt.ylabel('Feature')\n",
    "plt.title('Feature Importances Using MDI')\n",
    "\n",
    "plt.subplot(1,2,2)\n",
    "plt.barh(feature_names, perm_imp_mean)\n",
    "plt.errorbar(perm_imp_mean, feature_names, xerr=perm_imp_std, fmt='none', color='black' )\n",
    "# plt.xlim([0.45,0.8])\n",
    "plt.xlabel('Mean Accuracy Decrease')\n",
    "plt.ylabel('Feature')\n",
    "plt.title('Feature Importances Using Permutation on Full Model')\n",
    "\n",
    "plt.tight_layout()\n",
    "plt.savefig(\"../figures/reportfigs/feature_importances.png\", bbox_inches='tight', dpi=300)\n",
    "plt.show()"
   ]
  },
  {
   "cell_type": "code",
   "execution_count": 216,
   "id": "d2dade5e",
   "metadata": {},
   "outputs": [],
   "source": [
    "import shap\n",
    "\n",
    "# create the explainer object with the random forest model\n",
    "explainer = shap.TreeExplainer(final_models[0])\n",
    "shap_values = explainer.shap_values(final_test_data[0][0])"
   ]
  },
  {
   "cell_type": "code",
   "execution_count": 217,
   "id": "1a3a634f",
   "metadata": {},
   "outputs": [
    {
     "data": {
      "text/plain": [
       "(3, 78, 14)"
      ]
     },
     "execution_count": 217,
     "metadata": {},
     "output_type": "execute_result"
    }
   ],
   "source": [
    "np.shape(shap_values)"
   ]
  },
  {
   "cell_type": "code",
   "execution_count": 238,
   "id": "db3a97e3",
   "metadata": {},
   "outputs": [
    {
     "data": {
      "image/png": "[encoded data removed]",
      "text/plain": [
       "<Figure size 576x511.2 with 1 Axes>"
      ]
     },
     "metadata": {
      "needs_background": "light"
     },
     "output_type": "display_data"
    }
   ],
   "source": [
    "shap.summary_plot(shap_values, final_test_data[0][0],feature_names = feature_names, show=False)\n",
    "plt.title('SHAP Feature Importances')\n",
    "plt.savefig(\"../figures/reportfigs/shap.png\", bbox_inches='tight', dpi=300)"
   ]
  },
  {
   "cell_type": "code",
   "execution_count": 219,
   "id": "f34513a8",
   "metadata": {},
   "outputs": [],
   "source": [
    "# save the output\n",
    "file = open('../results/feature_importances.save', 'wb')\n",
    "pickle.dump((feature_names, feat_imp_mean, feat_imp_stdev, perm_imp_mean, perm_imp_std, shap_values),file)\n",
    "file.close()"
   ]
  },
  {
   "cell_type": "code",
   "execution_count": null,
   "id": "d9d01d08",
   "metadata": {},
   "outputs": [],
   "source": []
  }
 ],
 "metadata": {
  "kernelspec": {
   "display_name": "Python 3 (ipykernel)",
   "language": "python",
   "name": "python3"
  },
  "language_info": {
   "codemirror_mode": {
    "name": "ipython",
    "version": 3
   },
   "file_extension": ".py",
   "mimetype": "text/x-python",
   "name": "python",
   "nbconvert_exporter": "python",
   "pygments_lexer": "ipython3",
   "version": "3.9.7"
  }
 },
 "nbformat": 4,
 "nbformat_minor": 5
}
